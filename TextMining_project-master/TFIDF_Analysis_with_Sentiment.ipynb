{
  "nbformat": 4,
  "nbformat_minor": 0,
  "metadata": {
    "colab": {
      "name": "TFIDF.ipynb",
      "provenance": [],
      "collapsed_sections": [],
      "toc_visible": true
    },
    "kernelspec": {
      "name": "python3",
      "display_name": "Python 3"
    }
  },
  "cells": [
    {
      "cell_type": "code",
      "metadata": {
        "id": "C7wc4cTlDBGz",
        "colab_type": "code",
        "outputId": "ce21e5c5-d396-47c0-fff2-7646428fbb55",
        "colab": {
          "base_uri": "https://localhost:8080/",
          "height": 68
        }
      },
      "source": [
        "import pandas as pd\n",
        "#Scraping With GetOldTweets3\n",
        "#!pip install GetOldTweets3\n",
        "#import GetOldTweets3 as got\n",
        "import numpy as np\n",
        "import nltk\n",
        "from nltk.corpus import stopwords\n",
        "from nltk.tokenize import sent_tokenize, word_tokenize\n",
        "from nltk.tokenize import RegexpTokenizer\n",
        "from nltk.tokenize import sent_tokenize, word_tokenize\n",
        "from nltk.stem import PorterStemmer\n",
        "ps = PorterStemmer()\n",
        "import re\n",
        "from bs4 import BeautifulSoup\n",
        "from nltk.tokenize import WordPunctTokenizer\n",
        "nltk.download('wordnet')"
      ],
      "execution_count": 245,
      "outputs": [
        {
          "output_type": "stream",
          "text": [
            "[nltk_data] Downloading package wordnet to /root/nltk_data...\n",
            "[nltk_data]   Package wordnet is already up-to-date!\n"
          ],
          "name": "stdout"
        },
        {
          "output_type": "execute_result",
          "data": {
            "text/plain": [
              "True"
            ]
          },
          "metadata": {
            "tags": []
          },
          "execution_count": 245
        }
      ]
    },
    {
      "cell_type": "code",
      "metadata": {
        "id": "MmimC6s1N4CF",
        "colab_type": "code",
        "outputId": "3a7de531-5d7f-4957-b92b-6e9d73efbfa2",
        "colab": {
          "base_uri": "https://localhost:8080/",
          "height": 34
        }
      },
      "source": [
        "!pwd"
      ],
      "execution_count": 134,
      "outputs": [
        {
          "output_type": "stream",
          "text": [
            "/content\n"
          ],
          "name": "stdout"
        }
      ]
    },
    {
      "cell_type": "markdown",
      "metadata": {
        "id": "for94MydmTnS",
        "colab_type": "text"
      },
      "source": [
        "### Read Data"
      ]
    },
    {
      "cell_type": "code",
      "metadata": {
        "id": "kxpiRqQ_G29q",
        "colab_type": "code",
        "colab": {}
      },
      "source": [
        "data = pd.read_excel(\"./tweet_cleaned_data.xlsx\")\n"
      ],
      "execution_count": 0,
      "outputs": []
    },
    {
      "cell_type": "code",
      "metadata": {
        "id": "Tj5YB-puOXbo",
        "colab_type": "code",
        "outputId": "8c63cae1-00b6-4aa3-d455-01a7f0626e97",
        "colab": {
          "base_uri": "https://localhost:8080/",
          "height": 34
        }
      },
      "source": [
        "###Length of Dataset\n",
        "len(data[\"cleaned_text\"])"
      ],
      "execution_count": 247,
      "outputs": [
        {
          "output_type": "execute_result",
          "data": {
            "text/plain": [
              "2446"
            ]
          },
          "metadata": {
            "tags": []
          },
          "execution_count": 247
        }
      ]
    },
    {
      "cell_type": "code",
      "metadata": {
        "id": "ibWehIM9Hriz",
        "colab_type": "code",
        "colab": {}
      },
      "source": [
        "new_df = data.filter(['date','cleaned_text'], axis=1)\n"
      ],
      "execution_count": 0,
      "outputs": []
    },
    {
      "cell_type": "markdown",
      "metadata": {
        "id": "u5owAzghmjgQ",
        "colab_type": "text"
      },
      "source": [
        "### Club tweet of each Day"
      ]
    },
    {
      "cell_type": "code",
      "metadata": {
        "id": "OGjYojsKcH9-",
        "colab_type": "code",
        "colab": {}
      },
      "source": [
        "new_df=new_df.groupby('date')['cleaned_text'].agg(lambda x: ' '.join(x.astype(str))).reset_index()"
      ],
      "execution_count": 0,
      "outputs": []
    },
    {
      "cell_type": "code",
      "metadata": {
        "id": "R2Hb_KqKc6zI",
        "colab_type": "code",
        "outputId": "d212cc45-5e2b-4287-b550-c786d147aa40",
        "colab": {
          "base_uri": "https://localhost:8080/",
          "height": 34
        }
      },
      "source": [
        "len(new_df)"
      ],
      "execution_count": 251,
      "outputs": [
        {
          "output_type": "execute_result",
          "data": {
            "text/plain": [
              "91"
            ]
          },
          "metadata": {
            "tags": []
          },
          "execution_count": 251
        }
      ]
    },
    {
      "cell_type": "markdown",
      "metadata": {
        "id": "5ZRe2pQumtZA",
        "colab_type": "text"
      },
      "source": [
        "### In below steps the TF and IDF of tweets of each day is calculated"
      ]
    },
    {
      "cell_type": "code",
      "metadata": {
        "id": "0hdsCzk0rW28",
        "colab_type": "code",
        "colab": {}
      },
      "source": [
        "from past.builtins import xrange\n",
        "nums = [0,len(new_df[\"cleaned_text\"])]\n",
        "\n",
        "clean_tweet_texts = []\n",
        "for i in xrange(nums[0],nums[1]):\n",
        "  clean_tweet_texts.append((new_df.loc[i,\"cleaned_text\"]))\n",
        "    #clean_tweet_texts.append(clean_tweet(data['tweet_text'][i]))"
      ],
      "execution_count": 0,
      "outputs": []
    },
    {
      "cell_type": "code",
      "metadata": {
        "id": "DSN6o3nxuxnF",
        "colab_type": "code",
        "colab": {}
      },
      "source": [
        "tweet_eachDay=[]\n",
        "for sentecnce in clean_tweet_texts:\n",
        "    tweet_eachDay.append(str(sentecnce).split())"
      ],
      "execution_count": 0,
      "outputs": []
    },
    {
      "cell_type": "code",
      "metadata": {
        "id": "NPuwD6Ezttk-",
        "colab_type": "code",
        "colab": {}
      },
      "source": [
        "# calculating DF\n",
        "DF = {}\n",
        "for i in range(len(tweet_eachDay)):\n",
        "    tokens = tweet_eachDay[i]\n",
        "    #print(tokens)\n",
        "    for w in tokens:\n",
        "        try:\n",
        "            DF[w].add(i)\n",
        "        except:\n",
        "            DF[w] = {i}\n",
        "#print(DF)"
      ],
      "execution_count": 0,
      "outputs": []
    },
    {
      "cell_type": "code",
      "metadata": {
        "id": "v5Peae-itzz5",
        "colab_type": "code",
        "colab": {}
      },
      "source": [
        "### finding the frequency of the word \n",
        "for i in DF:\n",
        "    DF[i]= len(DF[i])\n",
        "#DF"
      ],
      "execution_count": 0,
      "outputs": []
    },
    {
      "cell_type": "code",
      "metadata": {
        "id": "sBqoqVB8ypgT",
        "colab_type": "code",
        "colab": {}
      },
      "source": [
        "# calculating TF-IDF\n",
        "import collections\n",
        "tf_idf = {}\n",
        "N = len(tweet_eachDay)\n",
        "tf_idf_allDays =[]\n",
        "for i in range(N):\n",
        "    tokens = tweet_eachDay[i]\n",
        "    # print(tokens)\n",
        "    counter = collections.Counter(tokens)\n",
        "    words_count = len(tokens)\n",
        "    tf_idf_eachday ={}\n",
        "    for token in np.unique(tokens):\n",
        "        tf = counter[token]/words_count\n",
        "        df = DF[token]\n",
        "        \n",
        "        idf = np.log(N/df)\n",
        "        #tf_idf[token,i] = (tf*idf,i)\n",
        "    \n",
        "        tf_idf_eachday[token] =tf*idf\n",
        "    tf_idf_allDays.append(tf_idf_eachday)  "
      ],
      "execution_count": 0,
      "outputs": []
    },
    {
      "cell_type": "markdown",
      "metadata": {
        "id": "QBumAy-nnG_e",
        "colab_type": "text"
      },
      "source": [
        "### In below Section the Loghurn negative word doc is imported to do analysis how much negative sentiment tweets carry for given date"
      ]
    },
    {
      "cell_type": "code",
      "metadata": {
        "id": "9j7q4l5IdvZa",
        "colab_type": "code",
        "colab": {}
      },
      "source": [
        "negative_word =[]\n",
        "with open('./loghurn_negative.txt') as f:\n",
        "    negative_word = f.read().splitlines()"
      ],
      "execution_count": 0,
      "outputs": []
    },
    {
      "cell_type": "code",
      "metadata": {
        "id": "kkl58P9Mffpp",
        "colab_type": "code",
        "outputId": "b5f9fbc1-c903-46c9-9ca0-443d8cec7356",
        "colab": {
          "base_uri": "https://localhost:8080/",
          "height": 34
        }
      },
      "source": [
        "len(tweet_eachDay)"
      ],
      "execution_count": 259,
      "outputs": [
        {
          "output_type": "execute_result",
          "data": {
            "text/plain": [
              "91"
            ]
          },
          "metadata": {
            "tags": []
          },
          "execution_count": 259
        }
      ]
    },
    {
      "cell_type": "markdown",
      "metadata": {
        "id": "PhkOdQIaneP3",
        "colab_type": "text"
      },
      "source": [
        "###Negative Sentiment Score is calculated in below section."
      ]
    },
    {
      "cell_type": "code",
      "metadata": {
        "id": "Z441aYlCegC7",
        "colab_type": "code",
        "colab": {}
      },
      "source": [
        "sentiment_score=[]\n",
        "neg_word_number=[]\n",
        "for i in range(len(tf_idf_allDays)):\n",
        "    tf_idf_dict = tf_idf_allDays[i]\n",
        "    word_counter=0\n",
        "    \n",
        "    line_sent_score=0\n",
        "    for word,score in tf_idf_dict.items():\n",
        "      \n",
        "      if word.upper() in negative_word:\n",
        "        word_counter =word_counter+1\n",
        "        line_sent_score=line_sent_score+score\n",
        "    #print(line_sent_score)\n",
        "    sentiment_score.append(line_sent_score)\n",
        "    neg_word_number.append(word_counter)"
      ],
      "execution_count": 0,
      "outputs": []
    },
    {
      "cell_type": "code",
      "metadata": {
        "id": "6bQ7bHndegPU",
        "colab_type": "code",
        "colab": {}
      },
      "source": [
        "new_df[\"sentiment_score\"]=sentiment_score"
      ],
      "execution_count": 0,
      "outputs": []
    },
    {
      "cell_type": "code",
      "metadata": {
        "id": "GShaDAX90Qfn",
        "colab_type": "code",
        "colab": {}
      },
      "source": [
        "new_df[\"neg_word_count\"]=neg_word_number"
      ],
      "execution_count": 0,
      "outputs": []
    },
    {
      "cell_type": "code",
      "metadata": {
        "id": "LsgRlGVhr94n",
        "colab_type": "code",
        "outputId": "a4e229f9-347b-4b0a-b1a5-44b4861a384b",
        "colab": {
          "base_uri": "https://localhost:8080/",
          "height": 419
        }
      },
      "source": [
        "### check the dataset with sentiment score\n",
        "new_df"
      ],
      "execution_count": 263,
      "outputs": [
        {
          "output_type": "execute_result",
          "data": {
            "text/html": [
              "<div>\n",
              "<style scoped>\n",
              "    .dataframe tbody tr th:only-of-type {\n",
              "        vertical-align: middle;\n",
              "    }\n",
              "\n",
              "    .dataframe tbody tr th {\n",
              "        vertical-align: top;\n",
              "    }\n",
              "\n",
              "    .dataframe thead th {\n",
              "        text-align: right;\n",
              "    }\n",
              "</style>\n",
              "<table border=\"1\" class=\"dataframe\">\n",
              "  <thead>\n",
              "    <tr style=\"text-align: right;\">\n",
              "      <th></th>\n",
              "      <th>date</th>\n",
              "      <th>cleaned_text</th>\n",
              "      <th>sentiment_score</th>\n",
              "      <th>neg_word_count</th>\n",
              "    </tr>\n",
              "  </thead>\n",
              "  <tbody>\n",
              "    <tr>\n",
              "      <th>0</th>\n",
              "      <td>2019-12-31</td>\n",
              "      <td>know lot well worth minut read trader need rea...</td>\n",
              "      <td>0.069354</td>\n",
              "      <td>22</td>\n",
              "    </tr>\n",
              "    <tr>\n",
              "      <th>1</th>\n",
              "      <td>2020-01-01</td>\n",
              "      <td>wisdom let get done conserv kag kag kaga kag l...</td>\n",
              "      <td>0.159233</td>\n",
              "      <td>14</td>\n",
              "    </tr>\n",
              "    <tr>\n",
              "      <th>2</th>\n",
              "      <td>2020-01-02</td>\n",
              "      <td>rakesh jhunjhunwala check iifl secur keep mind...</td>\n",
              "      <td>0.167102</td>\n",
              "      <td>11</td>\n",
              "    </tr>\n",
              "    <tr>\n",
              "      <th>3</th>\n",
              "      <td>2020-01-03</td>\n",
              "      <td>track stockmarket reaction us airstrik kill so...</td>\n",
              "      <td>0.148410</td>\n",
              "      <td>12</td>\n",
              "    </tr>\n",
              "    <tr>\n",
              "      <th>4</th>\n",
              "      <td>2020-01-04</td>\n",
              "      <td>much fun make ten minut see lol click link ful...</td>\n",
              "      <td>0.120236</td>\n",
              "      <td>11</td>\n",
              "    </tr>\n",
              "    <tr>\n",
              "      <th>...</th>\n",
              "      <td>...</td>\n",
              "      <td>...</td>\n",
              "      <td>...</td>\n",
              "      <td>...</td>\n",
              "    </tr>\n",
              "    <tr>\n",
              "      <th>86</th>\n",
              "      <td>2020-03-26</td>\n",
              "      <td>bear bullmarket shortest ever amount time stoc...</td>\n",
              "      <td>0.120656</td>\n",
              "      <td>39</td>\n",
              "    </tr>\n",
              "    <tr>\n",
              "      <th>87</th>\n",
              "      <td>2020-03-27</td>\n",
              "      <td>week spx comp dow stock stockmarket investor i...</td>\n",
              "      <td>0.110930</td>\n",
              "      <td>20</td>\n",
              "    </tr>\n",
              "    <tr>\n",
              "      <th>88</th>\n",
              "      <td>2020-03-28</td>\n",
              "      <td>good exampl prep correctli took book good trad...</td>\n",
              "      <td>0.056469</td>\n",
              "      <td>10</td>\n",
              "    </tr>\n",
              "    <tr>\n",
              "      <th>89</th>\n",
              "      <td>2020-03-29</td>\n",
              "      <td>economist chart given world coronaviru china w...</td>\n",
              "      <td>0.126032</td>\n",
              "      <td>12</td>\n",
              "    </tr>\n",
              "    <tr>\n",
              "      <th>90</th>\n",
              "      <td>2020-03-30</td>\n",
              "      <td>liquid shall never freez ice stockmarket close...</td>\n",
              "      <td>0.101496</td>\n",
              "      <td>29</td>\n",
              "    </tr>\n",
              "  </tbody>\n",
              "</table>\n",
              "<p>91 rows × 4 columns</p>\n",
              "</div>"
            ],
            "text/plain": [
              "          date  ... neg_word_count\n",
              "0   2019-12-31  ...             22\n",
              "1   2020-01-01  ...             14\n",
              "2   2020-01-02  ...             11\n",
              "3   2020-01-03  ...             12\n",
              "4   2020-01-04  ...             11\n",
              "..         ...  ...            ...\n",
              "86  2020-03-26  ...             39\n",
              "87  2020-03-27  ...             20\n",
              "88  2020-03-28  ...             10\n",
              "89  2020-03-29  ...             12\n",
              "90  2020-03-30  ...             29\n",
              "\n",
              "[91 rows x 4 columns]"
            ]
          },
          "metadata": {
            "tags": []
          },
          "execution_count": 263
        }
      ]
    },
    {
      "cell_type": "markdown",
      "metadata": {
        "id": "PKqF4prtnvKC",
        "colab_type": "text"
      },
      "source": [
        "### in the following section the sentiment score is divided by total word to normalize the sentiment score."
      ]
    },
    {
      "cell_type": "code",
      "metadata": {
        "id": "sfPvAl0Js_Cp",
        "colab_type": "code",
        "colab": {}
      },
      "source": [
        "from past.builtins import xrange\n",
        "nums = [0,len(new_df[\"cleaned_text\"])]\n",
        "#nums = [0,3000]\n",
        "normalized_sentiment_score = []\n",
        "for i in xrange(nums[0],nums[1]):\n",
        "\n",
        "  word_count=len(new_df.loc[i,\"cleaned_text\"].split(\" \"))\n",
        "  #print(word_count)\n",
        "  normalized_score=(new_df.loc[i,\"sentiment_score\"])/word_count\n",
        "  normalized_sentiment_score.append(normalized_score)\n",
        "  #print(normalized_sentiment_score)\n",
        "     "
      ],
      "execution_count": 0,
      "outputs": []
    },
    {
      "cell_type": "code",
      "metadata": {
        "id": "07VUIKtPvn2Z",
        "colab_type": "code",
        "colab": {}
      },
      "source": [
        "new_df[\"normalized_sentiment_score\"]=normalized_sentiment_score"
      ],
      "execution_count": 0,
      "outputs": []
    },
    {
      "cell_type": "code",
      "metadata": {
        "id": "TrrK9xC_v2JF",
        "colab_type": "code",
        "outputId": "baba4858-5427-43ec-873e-0c6a2558ea1c",
        "colab": {
          "base_uri": "https://localhost:8080/",
          "height": 419
        }
      },
      "source": [
        "new_df.sort_values('normalized_sentiment_score')"
      ],
      "execution_count": 267,
      "outputs": [
        {
          "output_type": "execute_result",
          "data": {
            "text/html": [
              "<div>\n",
              "<style scoped>\n",
              "    .dataframe tbody tr th:only-of-type {\n",
              "        vertical-align: middle;\n",
              "    }\n",
              "\n",
              "    .dataframe tbody tr th {\n",
              "        vertical-align: top;\n",
              "    }\n",
              "\n",
              "    .dataframe thead th {\n",
              "        text-align: right;\n",
              "    }\n",
              "</style>\n",
              "<table border=\"1\" class=\"dataframe\">\n",
              "  <thead>\n",
              "    <tr style=\"text-align: right;\">\n",
              "      <th></th>\n",
              "      <th>date</th>\n",
              "      <th>cleaned_text</th>\n",
              "      <th>sentiment_score</th>\n",
              "      <th>neg_word_count</th>\n",
              "      <th>normalized_sentiment_score</th>\n",
              "    </tr>\n",
              "  </thead>\n",
              "  <tbody>\n",
              "    <tr>\n",
              "      <th>21</th>\n",
              "      <td>2020-01-21</td>\n",
              "      <td>last week interview insight think pick stock s...</td>\n",
              "      <td>0.063981</td>\n",
              "      <td>24</td>\n",
              "      <td>0.000075</td>\n",
              "    </tr>\n",
              "    <tr>\n",
              "      <th>27</th>\n",
              "      <td>2020-01-27</td>\n",
              "      <td>never see peopl impact diseas lot scari headli...</td>\n",
              "      <td>0.055506</td>\n",
              "      <td>21</td>\n",
              "      <td>0.000075</td>\n",
              "    </tr>\n",
              "    <tr>\n",
              "      <th>45</th>\n",
              "      <td>2020-02-14</td>\n",
              "      <td>govern help buy record price stock valuat gold...</td>\n",
              "      <td>0.017850</td>\n",
              "      <td>4</td>\n",
              "      <td>0.000079</td>\n",
              "    </tr>\n",
              "    <tr>\n",
              "      <th>28</th>\n",
              "      <td>2020-01-28</td>\n",
              "      <td>new setup nflx need hold specif zone trade fib...</td>\n",
              "      <td>0.075532</td>\n",
              "      <td>27</td>\n",
              "      <td>0.000084</td>\n",
              "    </tr>\n",
              "    <tr>\n",
              "      <th>14</th>\n",
              "      <td>2020-01-14</td>\n",
              "      <td>jan us stock close mix dow hit intraday high e...</td>\n",
              "      <td>0.072631</td>\n",
              "      <td>23</td>\n",
              "      <td>0.000092</td>\n",
              "    </tr>\n",
              "    <tr>\n",
              "      <th>...</th>\n",
              "      <td>...</td>\n",
              "      <td>...</td>\n",
              "      <td>...</td>\n",
              "      <td>...</td>\n",
              "      <td>...</td>\n",
              "    </tr>\n",
              "    <tr>\n",
              "      <th>32</th>\n",
              "      <td>2020-02-01</td>\n",
              "      <td>anyon shoot nifti economi go wrong similar typ...</td>\n",
              "      <td>0.172558</td>\n",
              "      <td>11</td>\n",
              "      <td>0.001135</td>\n",
              "    </tr>\n",
              "    <tr>\n",
              "      <th>54</th>\n",
              "      <td>2020-02-23</td>\n",
              "      <td>tire learn stockmarket children tire learn day...</td>\n",
              "      <td>0.205695</td>\n",
              "      <td>12</td>\n",
              "      <td>0.001143</td>\n",
              "    </tr>\n",
              "    <tr>\n",
              "      <th>2</th>\n",
              "      <td>2020-01-02</td>\n",
              "      <td>rakesh jhunjhunwala check iifl secur keep mind...</td>\n",
              "      <td>0.167102</td>\n",
              "      <td>11</td>\n",
              "      <td>0.001202</td>\n",
              "    </tr>\n",
              "    <tr>\n",
              "      <th>5</th>\n",
              "      <td>2020-01-05</td>\n",
              "      <td>translat blown debt bubbl economi collaps go d...</td>\n",
              "      <td>0.109944</td>\n",
              "      <td>3</td>\n",
              "      <td>0.001222</td>\n",
              "    </tr>\n",
              "    <tr>\n",
              "      <th>67</th>\n",
              "      <td>2020-03-07</td>\n",
              "      <td>fake news none polici work unless consid make ...</td>\n",
              "      <td>0.364481</td>\n",
              "      <td>5</td>\n",
              "      <td>0.014579</td>\n",
              "    </tr>\n",
              "  </tbody>\n",
              "</table>\n",
              "<p>91 rows × 5 columns</p>\n",
              "</div>"
            ],
            "text/plain": [
              "          date  ... normalized_sentiment_score\n",
              "21  2020-01-21  ...                   0.000075\n",
              "27  2020-01-27  ...                   0.000075\n",
              "45  2020-02-14  ...                   0.000079\n",
              "28  2020-01-28  ...                   0.000084\n",
              "14  2020-01-14  ...                   0.000092\n",
              "..         ...  ...                        ...\n",
              "32  2020-02-01  ...                   0.001135\n",
              "54  2020-02-23  ...                   0.001143\n",
              "2   2020-01-02  ...                   0.001202\n",
              "5   2020-01-05  ...                   0.001222\n",
              "67  2020-03-07  ...                   0.014579\n",
              "\n",
              "[91 rows x 5 columns]"
            ]
          },
          "metadata": {
            "tags": []
          },
          "execution_count": 267
        }
      ]
    },
    {
      "cell_type": "markdown",
      "metadata": {
        "id": "S1rEybMbyRL8",
        "colab_type": "text"
      },
      "source": [
        "### In the following section Dow dataset for those date range is imported for further analysis."
      ]
    },
    {
      "cell_type": "code",
      "metadata": {
        "id": "wT8wju_p8_YD",
        "colab_type": "code",
        "outputId": "fe0e2bc7-d090-4deb-b1bd-4b41e3b8d8c0",
        "colab": {
          "base_uri": "https://localhost:8080/",
          "height": 204
        }
      },
      "source": [
        "dow_stock=pd.read_excel('./Dow.xlsx')\n",
        "dow_stock=dow_stock[2:][['Attributes','Close']].rename(columns={\"Attributes\": \"date\",\"Close\":\"Prices\"}).reset_index(drop=True)\n",
        "dow_stock['date']=dow_stock['date'].dt.strftime('%Y-%m-%d')\n",
        "dow_stock.head()"
      ],
      "execution_count": 271,
      "outputs": [
        {
          "output_type": "execute_result",
          "data": {
            "text/html": [
              "<div>\n",
              "<style scoped>\n",
              "    .dataframe tbody tr th:only-of-type {\n",
              "        vertical-align: middle;\n",
              "    }\n",
              "\n",
              "    .dataframe tbody tr th {\n",
              "        vertical-align: top;\n",
              "    }\n",
              "\n",
              "    .dataframe thead th {\n",
              "        text-align: right;\n",
              "    }\n",
              "</style>\n",
              "<table border=\"1\" class=\"dataframe\">\n",
              "  <thead>\n",
              "    <tr style=\"text-align: right;\">\n",
              "      <th></th>\n",
              "      <th>date</th>\n",
              "      <th>Prices</th>\n",
              "    </tr>\n",
              "  </thead>\n",
              "  <tbody>\n",
              "    <tr>\n",
              "      <th>0</th>\n",
              "      <td>2020-01-02</td>\n",
              "      <td>53.75</td>\n",
              "    </tr>\n",
              "    <tr>\n",
              "      <th>1</th>\n",
              "      <td>2020-01-03</td>\n",
              "      <td>52.42</td>\n",
              "    </tr>\n",
              "    <tr>\n",
              "      <th>2</th>\n",
              "      <td>2020-01-06</td>\n",
              "      <td>52.21</td>\n",
              "    </tr>\n",
              "    <tr>\n",
              "      <th>3</th>\n",
              "      <td>2020-01-07</td>\n",
              "      <td>52.19</td>\n",
              "    </tr>\n",
              "    <tr>\n",
              "      <th>4</th>\n",
              "      <td>2020-01-08</td>\n",
              "      <td>52.73</td>\n",
              "    </tr>\n",
              "  </tbody>\n",
              "</table>\n",
              "</div>"
            ],
            "text/plain": [
              "         date Prices\n",
              "0  2020-01-02  53.75\n",
              "1  2020-01-03  52.42\n",
              "2  2020-01-06  52.21\n",
              "3  2020-01-07  52.19\n",
              "4  2020-01-08  52.73"
            ]
          },
          "metadata": {
            "tags": []
          },
          "execution_count": 271
        }
      ]
    },
    {
      "cell_type": "code",
      "metadata": {
        "id": "Cr_a1IxlhnBl",
        "colab_type": "code",
        "colab": {}
      },
      "source": [
        "#Adding a \"Price\" column in our dataframe and fetching the stock price as per the date in our dataframe\n",
        "new_df['DowPrices']=\"\""
      ],
      "execution_count": 0,
      "outputs": []
    },
    {
      "cell_type": "code",
      "metadata": {
        "id": "W-ZJGHWnhzYg",
        "colab_type": "code",
        "colab": {}
      },
      "source": [
        "indx=0\n",
        "for i in range (0,len(new_df)):\n",
        "    for j in range (0,len(dow_stock)):\n",
        "        get_tweet_date=new_df.date.iloc[i]\n",
        "        get_stock_date=dow_stock.date.iloc[j]\n",
        "        if(str(get_stock_date)==str(get_tweet_date)):\n",
        "            #print(get_stock_date,\" \",get_tweet_date)\n",
        "\n",
        "            new_df.at[i,'DowPrices'] = float(dow_stock.Prices[j])\n",
        "            break"
      ],
      "execution_count": 0,
      "outputs": []
    },
    {
      "cell_type": "code",
      "metadata": {
        "id": "ifG_DtVK9aj7",
        "colab_type": "code",
        "outputId": "0906e085-a549-4224-a0a9-71b5e8432545",
        "colab": {
          "base_uri": "https://localhost:8080/",
          "height": 419
        }
      },
      "source": [
        "new_df"
      ],
      "execution_count": 274,
      "outputs": [
        {
          "output_type": "execute_result",
          "data": {
            "text/html": [
              "<div>\n",
              "<style scoped>\n",
              "    .dataframe tbody tr th:only-of-type {\n",
              "        vertical-align: middle;\n",
              "    }\n",
              "\n",
              "    .dataframe tbody tr th {\n",
              "        vertical-align: top;\n",
              "    }\n",
              "\n",
              "    .dataframe thead th {\n",
              "        text-align: right;\n",
              "    }\n",
              "</style>\n",
              "<table border=\"1\" class=\"dataframe\">\n",
              "  <thead>\n",
              "    <tr style=\"text-align: right;\">\n",
              "      <th></th>\n",
              "      <th>date</th>\n",
              "      <th>cleaned_text</th>\n",
              "      <th>sentiment_score</th>\n",
              "      <th>neg_word_count</th>\n",
              "      <th>normalized_sentiment_score</th>\n",
              "      <th>DowPrices</th>\n",
              "    </tr>\n",
              "  </thead>\n",
              "  <tbody>\n",
              "    <tr>\n",
              "      <th>0</th>\n",
              "      <td>2019-12-31</td>\n",
              "      <td>know lot well worth minut read trader need rea...</td>\n",
              "      <td>0.069354</td>\n",
              "      <td>22</td>\n",
              "      <td>0.000105</td>\n",
              "      <td></td>\n",
              "    </tr>\n",
              "    <tr>\n",
              "      <th>1</th>\n",
              "      <td>2020-01-01</td>\n",
              "      <td>wisdom let get done conserv kag kag kaga kag l...</td>\n",
              "      <td>0.159233</td>\n",
              "      <td>14</td>\n",
              "      <td>0.001034</td>\n",
              "      <td></td>\n",
              "    </tr>\n",
              "    <tr>\n",
              "      <th>2</th>\n",
              "      <td>2020-01-02</td>\n",
              "      <td>rakesh jhunjhunwala check iifl secur keep mind...</td>\n",
              "      <td>0.167102</td>\n",
              "      <td>11</td>\n",
              "      <td>0.001202</td>\n",
              "      <td>53.75</td>\n",
              "    </tr>\n",
              "    <tr>\n",
              "      <th>3</th>\n",
              "      <td>2020-01-03</td>\n",
              "      <td>track stockmarket reaction us airstrik kill so...</td>\n",
              "      <td>0.148410</td>\n",
              "      <td>12</td>\n",
              "      <td>0.000753</td>\n",
              "      <td>52.42</td>\n",
              "    </tr>\n",
              "    <tr>\n",
              "      <th>4</th>\n",
              "      <td>2020-01-04</td>\n",
              "      <td>much fun make ten minut see lol click link ful...</td>\n",
              "      <td>0.120236</td>\n",
              "      <td>11</td>\n",
              "      <td>0.000523</td>\n",
              "      <td></td>\n",
              "    </tr>\n",
              "    <tr>\n",
              "      <th>...</th>\n",
              "      <td>...</td>\n",
              "      <td>...</td>\n",
              "      <td>...</td>\n",
              "      <td>...</td>\n",
              "      <td>...</td>\n",
              "      <td>...</td>\n",
              "    </tr>\n",
              "    <tr>\n",
              "      <th>86</th>\n",
              "      <td>2020-03-26</td>\n",
              "      <td>bear bullmarket shortest ever amount time stoc...</td>\n",
              "      <td>0.120656</td>\n",
              "      <td>39</td>\n",
              "      <td>0.000164</td>\n",
              "      <td>29.68</td>\n",
              "    </tr>\n",
              "    <tr>\n",
              "      <th>87</th>\n",
              "      <td>2020-03-27</td>\n",
              "      <td>week spx comp dow stock stockmarket investor i...</td>\n",
              "      <td>0.110930</td>\n",
              "      <td>20</td>\n",
              "      <td>0.000302</td>\n",
              "      <td>28.56</td>\n",
              "    </tr>\n",
              "    <tr>\n",
              "      <th>88</th>\n",
              "      <td>2020-03-28</td>\n",
              "      <td>good exampl prep correctli took book good trad...</td>\n",
              "      <td>0.056469</td>\n",
              "      <td>10</td>\n",
              "      <td>0.000206</td>\n",
              "      <td></td>\n",
              "    </tr>\n",
              "    <tr>\n",
              "      <th>89</th>\n",
              "      <td>2020-03-29</td>\n",
              "      <td>economist chart given world coronaviru china w...</td>\n",
              "      <td>0.126032</td>\n",
              "      <td>12</td>\n",
              "      <td>0.000589</td>\n",
              "      <td></td>\n",
              "    </tr>\n",
              "    <tr>\n",
              "      <th>90</th>\n",
              "      <td>2020-03-30</td>\n",
              "      <td>liquid shall never freez ice stockmarket close...</td>\n",
              "      <td>0.101496</td>\n",
              "      <td>29</td>\n",
              "      <td>0.000147</td>\n",
              "      <td>28.65</td>\n",
              "    </tr>\n",
              "  </tbody>\n",
              "</table>\n",
              "<p>91 rows × 6 columns</p>\n",
              "</div>"
            ],
            "text/plain": [
              "          date  ... DowPrices\n",
              "0   2019-12-31  ...          \n",
              "1   2020-01-01  ...          \n",
              "2   2020-01-02  ...     53.75\n",
              "3   2020-01-03  ...     52.42\n",
              "4   2020-01-04  ...          \n",
              "..         ...  ...       ...\n",
              "86  2020-03-26  ...     29.68\n",
              "87  2020-03-27  ...     28.56\n",
              "88  2020-03-28  ...          \n",
              "89  2020-03-29  ...          \n",
              "90  2020-03-30  ...     28.65\n",
              "\n",
              "[91 rows x 6 columns]"
            ]
          },
          "metadata": {
            "tags": []
          },
          "execution_count": 274
        }
      ]
    },
    {
      "cell_type": "markdown",
      "metadata": {
        "id": "WuyKtwKXo4D7",
        "colab_type": "text"
      },
      "source": [
        "### The missing valus for Dow data for weekendsand holidays are handled in the below section with FFIL method."
      ]
    },
    {
      "cell_type": "code",
      "metadata": {
        "id": "7nNnEl2-98X0",
        "colab_type": "code",
        "colab": {}
      },
      "source": [
        "#Forward fill NaN values in the Prices Column\n",
        "new_df['DowPrices'] = new_df['DowPrices'].replace('', np.NaN)\n",
        "new_df['DowPrices'] = new_df['DowPrices'].fillna(method='ffill')\n"
      ],
      "execution_count": 0,
      "outputs": []
    },
    {
      "cell_type": "code",
      "metadata": {
        "id": "knovdwA0-Bjp",
        "colab_type": "code",
        "outputId": "4bc7cce0-874d-4cc1-9da4-38c7b439f04f",
        "colab": {
          "base_uri": "https://localhost:8080/",
          "height": 419
        }
      },
      "source": [
        "new_df"
      ],
      "execution_count": 276,
      "outputs": [
        {
          "output_type": "execute_result",
          "data": {
            "text/html": [
              "<div>\n",
              "<style scoped>\n",
              "    .dataframe tbody tr th:only-of-type {\n",
              "        vertical-align: middle;\n",
              "    }\n",
              "\n",
              "    .dataframe tbody tr th {\n",
              "        vertical-align: top;\n",
              "    }\n",
              "\n",
              "    .dataframe thead th {\n",
              "        text-align: right;\n",
              "    }\n",
              "</style>\n",
              "<table border=\"1\" class=\"dataframe\">\n",
              "  <thead>\n",
              "    <tr style=\"text-align: right;\">\n",
              "      <th></th>\n",
              "      <th>date</th>\n",
              "      <th>cleaned_text</th>\n",
              "      <th>sentiment_score</th>\n",
              "      <th>neg_word_count</th>\n",
              "      <th>normalized_sentiment_score</th>\n",
              "      <th>DowPrices</th>\n",
              "    </tr>\n",
              "  </thead>\n",
              "  <tbody>\n",
              "    <tr>\n",
              "      <th>0</th>\n",
              "      <td>2019-12-31</td>\n",
              "      <td>know lot well worth minut read trader need rea...</td>\n",
              "      <td>0.069354</td>\n",
              "      <td>22</td>\n",
              "      <td>0.000105</td>\n",
              "      <td>NaN</td>\n",
              "    </tr>\n",
              "    <tr>\n",
              "      <th>1</th>\n",
              "      <td>2020-01-01</td>\n",
              "      <td>wisdom let get done conserv kag kag kaga kag l...</td>\n",
              "      <td>0.159233</td>\n",
              "      <td>14</td>\n",
              "      <td>0.001034</td>\n",
              "      <td>NaN</td>\n",
              "    </tr>\n",
              "    <tr>\n",
              "      <th>2</th>\n",
              "      <td>2020-01-02</td>\n",
              "      <td>rakesh jhunjhunwala check iifl secur keep mind...</td>\n",
              "      <td>0.167102</td>\n",
              "      <td>11</td>\n",
              "      <td>0.001202</td>\n",
              "      <td>53.750000</td>\n",
              "    </tr>\n",
              "    <tr>\n",
              "      <th>3</th>\n",
              "      <td>2020-01-03</td>\n",
              "      <td>track stockmarket reaction us airstrik kill so...</td>\n",
              "      <td>0.148410</td>\n",
              "      <td>12</td>\n",
              "      <td>0.000753</td>\n",
              "      <td>52.419998</td>\n",
              "    </tr>\n",
              "    <tr>\n",
              "      <th>4</th>\n",
              "      <td>2020-01-04</td>\n",
              "      <td>much fun make ten minut see lol click link ful...</td>\n",
              "      <td>0.120236</td>\n",
              "      <td>11</td>\n",
              "      <td>0.000523</td>\n",
              "      <td>52.419998</td>\n",
              "    </tr>\n",
              "    <tr>\n",
              "      <th>...</th>\n",
              "      <td>...</td>\n",
              "      <td>...</td>\n",
              "      <td>...</td>\n",
              "      <td>...</td>\n",
              "      <td>...</td>\n",
              "      <td>...</td>\n",
              "    </tr>\n",
              "    <tr>\n",
              "      <th>86</th>\n",
              "      <td>2020-03-26</td>\n",
              "      <td>bear bullmarket shortest ever amount time stoc...</td>\n",
              "      <td>0.120656</td>\n",
              "      <td>39</td>\n",
              "      <td>0.000164</td>\n",
              "      <td>29.680000</td>\n",
              "    </tr>\n",
              "    <tr>\n",
              "      <th>87</th>\n",
              "      <td>2020-03-27</td>\n",
              "      <td>week spx comp dow stock stockmarket investor i...</td>\n",
              "      <td>0.110930</td>\n",
              "      <td>20</td>\n",
              "      <td>0.000302</td>\n",
              "      <td>28.559999</td>\n",
              "    </tr>\n",
              "    <tr>\n",
              "      <th>88</th>\n",
              "      <td>2020-03-28</td>\n",
              "      <td>good exampl prep correctli took book good trad...</td>\n",
              "      <td>0.056469</td>\n",
              "      <td>10</td>\n",
              "      <td>0.000206</td>\n",
              "      <td>28.559999</td>\n",
              "    </tr>\n",
              "    <tr>\n",
              "      <th>89</th>\n",
              "      <td>2020-03-29</td>\n",
              "      <td>economist chart given world coronaviru china w...</td>\n",
              "      <td>0.126032</td>\n",
              "      <td>12</td>\n",
              "      <td>0.000589</td>\n",
              "      <td>28.559999</td>\n",
              "    </tr>\n",
              "    <tr>\n",
              "      <th>90</th>\n",
              "      <td>2020-03-30</td>\n",
              "      <td>liquid shall never freez ice stockmarket close...</td>\n",
              "      <td>0.101496</td>\n",
              "      <td>29</td>\n",
              "      <td>0.000147</td>\n",
              "      <td>28.650000</td>\n",
              "    </tr>\n",
              "  </tbody>\n",
              "</table>\n",
              "<p>91 rows × 6 columns</p>\n",
              "</div>"
            ],
            "text/plain": [
              "          date  ...  DowPrices\n",
              "0   2019-12-31  ...        NaN\n",
              "1   2020-01-01  ...        NaN\n",
              "2   2020-01-02  ...  53.750000\n",
              "3   2020-01-03  ...  52.419998\n",
              "4   2020-01-04  ...  52.419998\n",
              "..         ...  ...        ...\n",
              "86  2020-03-26  ...  29.680000\n",
              "87  2020-03-27  ...  28.559999\n",
              "88  2020-03-28  ...  28.559999\n",
              "89  2020-03-29  ...  28.559999\n",
              "90  2020-03-30  ...  28.650000\n",
              "\n",
              "[91 rows x 6 columns]"
            ]
          },
          "metadata": {
            "tags": []
          },
          "execution_count": 276
        }
      ]
    },
    {
      "cell_type": "code",
      "metadata": {
        "id": "10oZLLDRogBq",
        "colab_type": "code",
        "colab": {}
      },
      "source": [
        "new_df =new_df.dropna()"
      ],
      "execution_count": 0,
      "outputs": []
    },
    {
      "cell_type": "code",
      "metadata": {
        "id": "Hrfvglh0rdLG",
        "colab_type": "code",
        "colab": {
          "base_uri": "https://localhost:8080/",
          "height": 472
        },
        "outputId": "8ea74614-bab7-4796-907a-a2f9b4bc119d"
      },
      "source": [
        "fig = plt.figure(figsize=(10, 5))\n",
        "line_weight = 3\n",
        "alpha = .5\n",
        "ax1 = fig.add_axes([0, 0, 1, 1])\n",
        "ax2 = fig.add_axes()\n",
        "# This is the magic that joins the x-axis\n",
        "ax2 = ax1.twinx()\n",
        "lns1 = ax1.plot(new_df['normalized_sentiment_score'], color='red', alpha=alpha, marker='o',label='sentiment score')\n",
        "lns2 = ax2.plot(new_df['DowPrices'], color='blue', alpha=alpha,marker='o', label='Dow prices')\n",
        "# Solution for having two legends\n",
        "\n",
        "ax1.set_xticks(list(range(0, 90, 5)))\n",
        "ax1.set_xticklabels(new_df.iloc[::5,0], rotation=25,fontsize=16)\n",
        "leg = lns1 + lns2\n",
        "labs = [l.get_label() for l in leg]\n",
        "ax1.legend(leg, labs, loc=0)\n",
        "plt.title('Sentiment and Dow Data', fontsize=20)\n",
        "ax1.grid()        \n",
        "plt.show()"
      ],
      "execution_count": 284,
      "outputs": [
        {
          "output_type": "display_data",
          "data": {
            "image/png": "[encoded data removed]",
            "text/plain": [
              "<Figure size 720x360 with 2 Axes>"
            ]
          },
          "metadata": {
            "tags": [],
            "needs_background": "light"
          }
        }
      ]
    },
    {
      "cell_type": "markdown",
      "metadata": {
        "id": "pm5D6CMLrlo-",
        "colab_type": "text"
      },
      "source": [
        "#Obeservation:\n",
        "In the above plot the dow data and the normalized negative score is plotted with date on X axis. We can observer that when is there is spike in the negative sentiment it has impacted the Dow price of followinf day or days.It is clearly visible that is high negative score between date range March 2nd 2020 and March 7 2020. then we can observe a trend that the DOw price has a sharp decline between March 7th 2020 to March 12th 2020.The First official death due to Covid-19 was declared on March 1st in Washington state.that migh have impacted high negative sentiment score between 2nd of March to 7th of March.\n"
      ]
    },
    {
      "cell_type": "markdown",
      "metadata": {
        "id": "PkQtvPXNt2-b",
        "colab_type": "text"
      },
      "source": [
        "###Scaling Data"
      ]
    },
    {
      "cell_type": "markdown",
      "metadata": {
        "id": "P4ln4wfLoeil",
        "colab_type": "text"
      },
      "source": [
        "##### from the dataset it is observed that the scale of \"normalized sentiment score and dow prices to put in same scale. and one negative score is too high which dominates the graph plotted above and other are not properly visible.to do further analysis in below section the high negative score is dropped and data is scaled to plot in another graph."
      ]
    },
    {
      "cell_type": "code",
      "metadata": {
        "id": "OrzFrL58v762",
        "colab_type": "code",
        "colab": {}
      },
      "source": [
        "from sklearn.preprocessing import MinMaxScaler\n",
        "scaler = MinMaxScaler()"
      ],
      "execution_count": 0,
      "outputs": []
    },
    {
      "cell_type": "code",
      "metadata": {
        "id": "MSyhqhHoyV49",
        "colab_type": "code",
        "colab": {}
      },
      "source": [
        "### drop the data with high sentiment\n",
        "new_df_updated =new_df.drop(index=67)"
      ],
      "execution_count": 0,
      "outputs": []
    },
    {
      "cell_type": "code",
      "metadata": {
        "id": "YPr39Mo2wGR5",
        "colab_type": "code",
        "colab": {}
      },
      "source": [
        "new_df_updated[['normalized_sentiment_score','DowPrices']] = scaler.fit_transform(new_df_updated[['normalized_sentiment_score','DowPrices']])"
      ],
      "execution_count": 0,
      "outputs": []
    },
    {
      "cell_type": "code",
      "metadata": {
        "id": "DjYggyBqxbSw",
        "colab_type": "code",
        "colab": {
          "base_uri": "https://localhost:8080/",
          "height": 419
        },
        "outputId": "776c0055-5339-445b-bf08-63f7af3274cb"
      },
      "source": [
        "new_df_updated.sort_values('normalized_sentiment_score',ascending=False)"
      ],
      "execution_count": 288,
      "outputs": [
        {
          "output_type": "execute_result",
          "data": {
            "text/html": [
              "<div>\n",
              "<style scoped>\n",
              "    .dataframe tbody tr th:only-of-type {\n",
              "        vertical-align: middle;\n",
              "    }\n",
              "\n",
              "    .dataframe tbody tr th {\n",
              "        vertical-align: top;\n",
              "    }\n",
              "\n",
              "    .dataframe thead th {\n",
              "        text-align: right;\n",
              "    }\n",
              "</style>\n",
              "<table border=\"1\" class=\"dataframe\">\n",
              "  <thead>\n",
              "    <tr style=\"text-align: right;\">\n",
              "      <th></th>\n",
              "      <th>date</th>\n",
              "      <th>cleaned_text</th>\n",
              "      <th>sentiment_score</th>\n",
              "      <th>neg_word_count</th>\n",
              "      <th>normalized_sentiment_score</th>\n",
              "      <th>DowPrices</th>\n",
              "    </tr>\n",
              "  </thead>\n",
              "  <tbody>\n",
              "    <tr>\n",
              "      <th>5</th>\n",
              "      <td>2020-01-05</td>\n",
              "      <td>translat blown debt bubbl economi collaps go d...</td>\n",
              "      <td>0.109944</td>\n",
              "      <td>3</td>\n",
              "      <td>1.000000</td>\n",
              "      <td>0.958110</td>\n",
              "    </tr>\n",
              "    <tr>\n",
              "      <th>2</th>\n",
              "      <td>2020-01-02</td>\n",
              "      <td>rakesh jhunjhunwala check iifl secur keep mind...</td>\n",
              "      <td>0.167102</td>\n",
              "      <td>11</td>\n",
              "      <td>0.983058</td>\n",
              "      <td>1.000000</td>\n",
              "    </tr>\n",
              "    <tr>\n",
              "      <th>54</th>\n",
              "      <td>2020-02-23</td>\n",
              "      <td>tire learn stockmarket children tire learn day...</td>\n",
              "      <td>0.205695</td>\n",
              "      <td>12</td>\n",
              "      <td>0.931252</td>\n",
              "      <td>0.828346</td>\n",
              "    </tr>\n",
              "    <tr>\n",
              "      <th>32</th>\n",
              "      <td>2020-02-01</td>\n",
              "      <td>anyon shoot nifti economi go wrong similar typ...</td>\n",
              "      <td>0.172558</td>\n",
              "      <td>11</td>\n",
              "      <td>0.924717</td>\n",
              "      <td>0.758110</td>\n",
              "    </tr>\n",
              "    <tr>\n",
              "      <th>25</th>\n",
              "      <td>2020-01-25</td>\n",
              "      <td>stockmarket ponzi scheme eventu must collaps g...</td>\n",
              "      <td>0.183863</td>\n",
              "      <td>18</td>\n",
              "      <td>0.673674</td>\n",
              "      <td>0.834331</td>\n",
              "    </tr>\n",
              "    <tr>\n",
              "      <th>...</th>\n",
              "      <td>...</td>\n",
              "      <td>...</td>\n",
              "      <td>...</td>\n",
              "      <td>...</td>\n",
              "      <td>...</td>\n",
              "      <td>...</td>\n",
              "    </tr>\n",
              "    <tr>\n",
              "      <th>14</th>\n",
              "      <td>2020-01-14</td>\n",
              "      <td>jan us stock close mix dow hit intraday high e...</td>\n",
              "      <td>0.072631</td>\n",
              "      <td>23</td>\n",
              "      <td>0.014938</td>\n",
              "      <td>0.952441</td>\n",
              "    </tr>\n",
              "    <tr>\n",
              "      <th>28</th>\n",
              "      <td>2020-01-28</td>\n",
              "      <td>new setup nflx need hold specif zone trade fib...</td>\n",
              "      <td>0.075532</td>\n",
              "      <td>27</td>\n",
              "      <td>0.008318</td>\n",
              "      <td>0.792441</td>\n",
              "    </tr>\n",
              "    <tr>\n",
              "      <th>45</th>\n",
              "      <td>2020-02-14</td>\n",
              "      <td>govern help buy record price stock valuat gold...</td>\n",
              "      <td>0.017850</td>\n",
              "      <td>4</td>\n",
              "      <td>0.003848</td>\n",
              "      <td>0.838740</td>\n",
              "    </tr>\n",
              "    <tr>\n",
              "      <th>27</th>\n",
              "      <td>2020-01-27</td>\n",
              "      <td>never see peopl impact diseas lot scari headli...</td>\n",
              "      <td>0.055506</td>\n",
              "      <td>21</td>\n",
              "      <td>0.000382</td>\n",
              "      <td>0.793071</td>\n",
              "    </tr>\n",
              "    <tr>\n",
              "      <th>21</th>\n",
              "      <td>2020-01-21</td>\n",
              "      <td>last week interview insight think pick stock s...</td>\n",
              "      <td>0.063981</td>\n",
              "      <td>24</td>\n",
              "      <td>0.000000</td>\n",
              "      <td>0.963779</td>\n",
              "    </tr>\n",
              "  </tbody>\n",
              "</table>\n",
              "<p>88 rows × 6 columns</p>\n",
              "</div>"
            ],
            "text/plain": [
              "          date  ... DowPrices\n",
              "5   2020-01-05  ...  0.958110\n",
              "2   2020-01-02  ...  1.000000\n",
              "54  2020-02-23  ...  0.828346\n",
              "32  2020-02-01  ...  0.758110\n",
              "25  2020-01-25  ...  0.834331\n",
              "..         ...  ...       ...\n",
              "14  2020-01-14  ...  0.952441\n",
              "28  2020-01-28  ...  0.792441\n",
              "45  2020-02-14  ...  0.838740\n",
              "27  2020-01-27  ...  0.793071\n",
              "21  2020-01-21  ...  0.963779\n",
              "\n",
              "[88 rows x 6 columns]"
            ]
          },
          "metadata": {
            "tags": []
          },
          "execution_count": 288
        }
      ]
    },
    {
      "cell_type": "code",
      "metadata": {
        "id": "Yg2cE8aeySJX",
        "colab_type": "code",
        "colab": {
          "base_uri": "https://localhost:8080/",
          "height": 472
        },
        "outputId": "2e6548be-047d-47a1-ca4b-8bca90523272"
      },
      "source": [
        "fig = plt.figure(figsize=(10, 5))\n",
        "line_weight = 3\n",
        "alpha = .5\n",
        "ax1 = fig.add_axes([0, 0, 1, 1])\n",
        "ax2 = fig.add_axes()\n",
        "# This is the magic that joins the x-axis\n",
        "ax2 = ax1.twinx()\n",
        "lns1 = ax1.plot(new_df_updated['normalized_sentiment_score'], color='red', alpha=alpha, marker='o',label='sentiment score')\n",
        "lns2 = ax2.plot(new_df_updated['DowPrices'], color='blue', alpha=alpha,marker='o', label='Dow prices')\n",
        "# Solution for having two legends\n",
        "\n",
        "ax1.set_xticks(list(range(0, 90, 5)))\n",
        "ax1.set_xticklabels(new_df_updated.iloc[::5,0], rotation=25,fontsize=16)\n",
        "leg = lns1 + lns2\n",
        "labs = [l.get_label() for l in leg]\n",
        "ax1.legend(leg, labs, loc=0)\n",
        "plt.title('Sentiment and Dow Data', fontsize=20)\n",
        "ax1.grid()        \n",
        "plt.show()"
      ],
      "execution_count": 289,
      "outputs": [
        {
          "output_type": "display_data",
          "data": {
            "image/png": "[encoded data removed]",
            "text/plain": [
              "<Figure size 720x360 with 2 Axes>"
            ]
          },
          "metadata": {
            "tags": [],
            "needs_background": "light"
          }
        }
      ]
    },
    {
      "cell_type": "markdown",
      "metadata": {
        "id": "3WqQgT_3u1-T",
        "colab_type": "text"
      },
      "source": [
        "#### From above graph it is observed that the days when the negative sentiment score is high,there is a decline trend in Dow value not on the same day rather the next few days."
      ]
    },
    {
      "cell_type": "markdown",
      "metadata": {
        "id": "AVFeYRBevm3V",
        "colab_type": "text"
      },
      "source": [
        "## In the following section a Linear Regression model is built to see the co relation between sentiment with Dow data"
      ]
    },
    {
      "cell_type": "code",
      "metadata": {
        "id": "5rB6gJfra8cB",
        "colab_type": "code",
        "colab": {}
      },
      "source": [
        " X = new_df['normalized_sentiment_score'].values.reshape(-1,1)\n",
        "y = new_df['DowPrices'].values.reshape(-1,1)"
      ],
      "execution_count": 0,
      "outputs": []
    },
    {
      "cell_type": "code",
      "metadata": {
        "id": "30buwiL2d-3R",
        "colab_type": "code",
        "colab": {}
      },
      "source": [
        "import pandas as pd  \n",
        "import numpy as np  \n",
        "import matplotlib.pyplot as plt  \n",
        "import seaborn as seabornInstance \n",
        "from sklearn.model_selection import train_test_split \n",
        "from sklearn.linear_model import LinearRegression\n",
        "from sklearn import metrics\n",
        "%matplotlib inline"
      ],
      "execution_count": 0,
      "outputs": []
    },
    {
      "cell_type": "code",
      "metadata": {
        "id": "o2p-H2Eed0pg",
        "colab_type": "code",
        "colab": {}
      },
      "source": [
        "X_train, X_test, y_train, y_test = train_test_split(X, y, test_size=0.2, random_state=0)"
      ],
      "execution_count": 0,
      "outputs": []
    },
    {
      "cell_type": "code",
      "metadata": {
        "id": "cojZm-YveFdE",
        "colab_type": "code",
        "colab": {
          "base_uri": "https://localhost:8080/",
          "height": 34
        },
        "outputId": "8a31790e-f0a0-4ff3-ee61-0a887e447f11"
      },
      "source": [
        "regressor = LinearRegression()  \n",
        "regressor.fit(X_train, y_train) #training the algorithm"
      ],
      "execution_count": 293,
      "outputs": [
        {
          "output_type": "execute_result",
          "data": {
            "text/plain": [
              "LinearRegression(copy_X=True, fit_intercept=True, n_jobs=None, normalize=False)"
            ]
          },
          "metadata": {
            "tags": []
          },
          "execution_count": 293
        }
      ]
    },
    {
      "cell_type": "code",
      "metadata": {
        "id": "LQ5qGNUkd9A4",
        "colab_type": "code",
        "colab": {
          "base_uri": "https://localhost:8080/",
          "height": 51
        },
        "outputId": "8ff92305-c96d-4b00-8025-69ace0c80637"
      },
      "source": [
        "#To retrieve the intercept:\n",
        "print(regressor.intercept_)\n",
        "#For retrieving the slope:\n",
        "print(regressor.coef_)"
      ],
      "execution_count": 294,
      "outputs": [
        {
          "output_type": "stream",
          "text": [
            "[42.35814325]\n",
            "[[-72.36894816]]\n"
          ],
          "name": "stdout"
        }
      ]
    },
    {
      "cell_type": "code",
      "metadata": {
        "id": "w5MuFwg0eQ7c",
        "colab_type": "code",
        "colab": {}
      },
      "source": [
        "y_pred = regressor.predict(X_test)"
      ],
      "execution_count": 0,
      "outputs": []
    },
    {
      "cell_type": "code",
      "metadata": {
        "id": "hhSWjsDreTyt",
        "colab_type": "code",
        "colab": {
          "base_uri": "https://localhost:8080/",
          "height": 607
        },
        "outputId": "9f5d5249-134d-424f-e567-d0eaf9f58d2b"
      },
      "source": [
        "df = pd.DataFrame({'Actual': y_test.flatten(), 'Predicted': y_pred.flatten()})\n",
        "df"
      ],
      "execution_count": 296,
      "outputs": [
        {
          "output_type": "execute_result",
          "data": {
            "text/html": [
              "<div>\n",
              "<style scoped>\n",
              "    .dataframe tbody tr th:only-of-type {\n",
              "        vertical-align: middle;\n",
              "    }\n",
              "\n",
              "    .dataframe tbody tr th {\n",
              "        vertical-align: top;\n",
              "    }\n",
              "\n",
              "    .dataframe thead th {\n",
              "        text-align: right;\n",
              "    }\n",
              "</style>\n",
              "<table border=\"1\" class=\"dataframe\">\n",
              "  <thead>\n",
              "    <tr style=\"text-align: right;\">\n",
              "      <th></th>\n",
              "      <th>Actual</th>\n",
              "      <th>Predicted</th>\n",
              "    </tr>\n",
              "  </thead>\n",
              "  <tbody>\n",
              "    <tr>\n",
              "      <th>0</th>\n",
              "      <td>52.419998</td>\n",
              "      <td>42.320311</td>\n",
              "    </tr>\n",
              "    <tr>\n",
              "      <th>1</th>\n",
              "      <td>52.270000</td>\n",
              "      <td>42.341473</td>\n",
              "    </tr>\n",
              "    <tr>\n",
              "      <th>2</th>\n",
              "      <td>46.240002</td>\n",
              "      <td>42.343361</td>\n",
              "    </tr>\n",
              "    <tr>\n",
              "      <th>3</th>\n",
              "      <td>49.380001</td>\n",
              "      <td>42.336427</td>\n",
              "    </tr>\n",
              "    <tr>\n",
              "      <th>4</th>\n",
              "      <td>38.970001</td>\n",
              "      <td>42.323816</td>\n",
              "    </tr>\n",
              "    <tr>\n",
              "      <th>5</th>\n",
              "      <td>46.070000</td>\n",
              "      <td>42.275986</td>\n",
              "    </tr>\n",
              "    <tr>\n",
              "      <th>6</th>\n",
              "      <td>48.630001</td>\n",
              "      <td>42.350157</td>\n",
              "    </tr>\n",
              "    <tr>\n",
              "      <th>7</th>\n",
              "      <td>48.630001</td>\n",
              "      <td>42.352427</td>\n",
              "    </tr>\n",
              "    <tr>\n",
              "      <th>8</th>\n",
              "      <td>27.440001</td>\n",
              "      <td>42.339240</td>\n",
              "    </tr>\n",
              "    <tr>\n",
              "      <th>9</th>\n",
              "      <td>28.650000</td>\n",
              "      <td>42.347483</td>\n",
              "    </tr>\n",
              "    <tr>\n",
              "      <th>10</th>\n",
              "      <td>52.189999</td>\n",
              "      <td>42.305978</td>\n",
              "    </tr>\n",
              "    <tr>\n",
              "      <th>11</th>\n",
              "      <td>47.160000</td>\n",
              "      <td>42.352056</td>\n",
              "    </tr>\n",
              "    <tr>\n",
              "      <th>12</th>\n",
              "      <td>48.049999</td>\n",
              "      <td>42.347485</td>\n",
              "    </tr>\n",
              "    <tr>\n",
              "      <th>13</th>\n",
              "      <td>40.099998</td>\n",
              "      <td>42.333306</td>\n",
              "    </tr>\n",
              "    <tr>\n",
              "      <th>14</th>\n",
              "      <td>51.500000</td>\n",
              "      <td>42.338572</td>\n",
              "    </tr>\n",
              "    <tr>\n",
              "      <th>15</th>\n",
              "      <td>53.340000</td>\n",
              "      <td>42.335474</td>\n",
              "    </tr>\n",
              "    <tr>\n",
              "      <th>16</th>\n",
              "      <td>48.490002</td>\n",
              "      <td>42.337491</td>\n",
              "    </tr>\n",
              "    <tr>\n",
              "      <th>17</th>\n",
              "      <td>39.549999</td>\n",
              "      <td>42.348304</td>\n",
              "    </tr>\n",
              "  </tbody>\n",
              "</table>\n",
              "</div>"
            ],
            "text/plain": [
              "       Actual  Predicted\n",
              "0   52.419998  42.320311\n",
              "1   52.270000  42.341473\n",
              "2   46.240002  42.343361\n",
              "3   49.380001  42.336427\n",
              "4   38.970001  42.323816\n",
              "5   46.070000  42.275986\n",
              "6   48.630001  42.350157\n",
              "7   48.630001  42.352427\n",
              "8   27.440001  42.339240\n",
              "9   28.650000  42.347483\n",
              "10  52.189999  42.305978\n",
              "11  47.160000  42.352056\n",
              "12  48.049999  42.347485\n",
              "13  40.099998  42.333306\n",
              "14  51.500000  42.338572\n",
              "15  53.340000  42.335474\n",
              "16  48.490002  42.337491\n",
              "17  39.549999  42.348304"
            ]
          },
          "metadata": {
            "tags": []
          },
          "execution_count": 296
        }
      ]
    },
    {
      "cell_type": "code",
      "metadata": {
        "id": "opKXL4BqeZMh",
        "colab_type": "code",
        "colab": {
          "base_uri": "https://localhost:8080/",
          "height": 594
        },
        "outputId": "8d7805f0-bc2d-43f0-80cf-e17655cd3829"
      },
      "source": [
        "df1 = df.head(25)\n",
        "df1.plot(kind='bar',figsize=(16,10))\n",
        "plt.grid(which='major', linestyle='-', linewidth='0.5', color='green')\n",
        "plt.grid(which='minor', linestyle=':', linewidth='0.5', color='black')\n",
        "plt.show()"
      ],
      "execution_count": 297,
      "outputs": [
        {
          "output_type": "display_data",
          "data": {
            "image/png": "[encoded data removed]",
            "text/plain": [
              "<Figure size 1152x720 with 1 Axes>"
            ]
          },
          "metadata": {
            "tags": [],
            "needs_background": "light"
          }
        }
      ]
    },
    {
      "cell_type": "code",
      "metadata": {
        "id": "xDj2eNvHekfm",
        "colab_type": "code",
        "colab": {
          "base_uri": "https://localhost:8080/",
          "height": 68
        },
        "outputId": "3cc19350-4b03-463a-cde0-bbe8dc8eb381"
      },
      "source": [
        "print('Mean Absolute Error:', metrics.mean_absolute_error(y_test, y_pred))  \n",
        "print('Mean Squared Error:', metrics.mean_squared_error(y_test, y_pred))  \n",
        "print('Root Mean Squared Error:', np.sqrt(metrics.mean_squared_error(y_test, y_pred)))"
      ],
      "execution_count": 298,
      "outputs": [
        {
          "output_type": "stream",
          "text": [
            "Mean Absolute Error: 7.278608482063813\n",
            "Mean Squared Error: 66.02790042411704\n",
            "Root Mean Squared Error: 8.125755375601523\n"
          ],
          "name": "stdout"
        }
      ]
    },
    {
      "cell_type": "markdown",
      "metadata": {
        "id": "O_upt02pv9oo",
        "colab_type": "text"
      },
      "source": [
        "## Conclusion And Interpretation"
      ]
    },
    {
      "cell_type": "markdown",
      "metadata": {
        "id": "8RGSea1YwNeM",
        "colab_type": "text"
      },
      "source": [
        "##### From analysis we have observed that the sentiment normally has influence not on the market on the same day rather following day.The sentiment and Dow data can be treated as timeseries data and futher analysis can be done.\n",
        "Apart from that for above analysis,the sample data is collected from tweeter only  for hash tag #Stock from jan to march.This small sample might not captured the true sentiment of tweeter data.    "
      ]
    }
  ]
}