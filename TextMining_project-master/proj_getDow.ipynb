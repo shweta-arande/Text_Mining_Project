{
 "cells": [
  {
   "cell_type": "code",
   "execution_count": 1,
   "metadata": {},
   "outputs": [
    {
     "name": "stderr",
     "output_type": "stream",
     "text": [
      "C:\\Users\\maitreyee\\Anaconda3\\lib\\site-packages\\pandas_datareader\\compat\\__init__.py:7: FutureWarning: pandas.util.testing is deprecated. Use the functions in the public API at pandas.testing instead.\n",
      "  from pandas.util.testing import assert_frame_equal\n"
     ]
    }
   ],
   "source": [
    "import pandas_datareader as pddr\n",
    "import matplotlib.pyplot as plt\n",
    "import pandas as pd\n",
    "import datetime"
   ]
  },
  {
   "cell_type": "code",
   "execution_count": 5,
   "metadata": {},
   "outputs": [
    {
     "data": {
      "text/html": [
       "<div>\n",
       "<style scoped>\n",
       "    .dataframe tbody tr th:only-of-type {\n",
       "        vertical-align: middle;\n",
       "    }\n",
       "\n",
       "    .dataframe tbody tr th {\n",
       "        vertical-align: top;\n",
       "    }\n",
       "\n",
       "    .dataframe thead tr th {\n",
       "        text-align: left;\n",
       "    }\n",
       "\n",
       "    .dataframe thead tr:last-of-type th {\n",
       "        text-align: right;\n",
       "    }\n",
       "</style>\n",
       "<table border=\"1\" class=\"dataframe\">\n",
       "  <thead>\n",
       "    <tr>\n",
       "      <th>Attributes</th>\n",
       "      <th>Adj Close</th>\n",
       "      <th>Close</th>\n",
       "      <th>High</th>\n",
       "      <th>Low</th>\n",
       "      <th>Open</th>\n",
       "      <th>Volume</th>\n",
       "    </tr>\n",
       "    <tr>\n",
       "      <th>Symbols</th>\n",
       "      <th>DOW</th>\n",
       "      <th>DOW</th>\n",
       "      <th>DOW</th>\n",
       "      <th>DOW</th>\n",
       "      <th>DOW</th>\n",
       "      <th>DOW</th>\n",
       "    </tr>\n",
       "    <tr>\n",
       "      <th>Date</th>\n",
       "      <th></th>\n",
       "      <th></th>\n",
       "      <th></th>\n",
       "      <th></th>\n",
       "      <th></th>\n",
       "      <th></th>\n",
       "    </tr>\n",
       "  </thead>\n",
       "  <tbody>\n",
       "    <tr>\n",
       "      <th>2020-01-02</th>\n",
       "      <td>52.876019</td>\n",
       "      <td>53.750000</td>\n",
       "      <td>55.540001</td>\n",
       "      <td>53.639999</td>\n",
       "      <td>55.230000</td>\n",
       "      <td>5145200.0</td>\n",
       "    </tr>\n",
       "    <tr>\n",
       "      <th>2020-01-03</th>\n",
       "      <td>51.567642</td>\n",
       "      <td>52.419998</td>\n",
       "      <td>53.599998</td>\n",
       "      <td>52.410000</td>\n",
       "      <td>53.110001</td>\n",
       "      <td>5004300.0</td>\n",
       "    </tr>\n",
       "    <tr>\n",
       "      <th>2020-01-06</th>\n",
       "      <td>51.361057</td>\n",
       "      <td>52.209999</td>\n",
       "      <td>52.880001</td>\n",
       "      <td>52.000000</td>\n",
       "      <td>52.320000</td>\n",
       "      <td>4293100.0</td>\n",
       "    </tr>\n",
       "    <tr>\n",
       "      <th>2020-01-07</th>\n",
       "      <td>51.341381</td>\n",
       "      <td>52.189999</td>\n",
       "      <td>53.064999</td>\n",
       "      <td>51.990002</td>\n",
       "      <td>52.290001</td>\n",
       "      <td>5122800.0</td>\n",
       "    </tr>\n",
       "    <tr>\n",
       "      <th>2020-01-08</th>\n",
       "      <td>51.872601</td>\n",
       "      <td>52.730000</td>\n",
       "      <td>53.169998</td>\n",
       "      <td>51.919998</td>\n",
       "      <td>52.410000</td>\n",
       "      <td>3629700.0</td>\n",
       "    </tr>\n",
       "    <tr>\n",
       "      <th>2020-01-09</th>\n",
       "      <td>51.341381</td>\n",
       "      <td>52.189999</td>\n",
       "      <td>53.070000</td>\n",
       "      <td>51.810001</td>\n",
       "      <td>52.750000</td>\n",
       "      <td>2667800.0</td>\n",
       "    </tr>\n",
       "    <tr>\n",
       "      <th>2020-01-10</th>\n",
       "      <td>50.662601</td>\n",
       "      <td>51.500000</td>\n",
       "      <td>52.869999</td>\n",
       "      <td>51.400002</td>\n",
       "      <td>52.860001</td>\n",
       "      <td>3277300.0</td>\n",
       "    </tr>\n",
       "    <tr>\n",
       "      <th>2020-01-13</th>\n",
       "      <td>51.498779</td>\n",
       "      <td>52.349998</td>\n",
       "      <td>52.400002</td>\n",
       "      <td>51.470001</td>\n",
       "      <td>51.500000</td>\n",
       "      <td>2665500.0</td>\n",
       "    </tr>\n",
       "    <tr>\n",
       "      <th>2020-01-14</th>\n",
       "      <td>51.390572</td>\n",
       "      <td>52.240002</td>\n",
       "      <td>52.970001</td>\n",
       "      <td>51.950001</td>\n",
       "      <td>52.189999</td>\n",
       "      <td>3689800.0</td>\n",
       "    </tr>\n",
       "    <tr>\n",
       "      <th>2020-01-15</th>\n",
       "      <td>51.420082</td>\n",
       "      <td>52.270000</td>\n",
       "      <td>52.650002</td>\n",
       "      <td>51.700001</td>\n",
       "      <td>52.189999</td>\n",
       "      <td>2235400.0</td>\n",
       "    </tr>\n",
       "  </tbody>\n",
       "</table>\n",
       "</div>"
      ],
      "text/plain": [
       "Attributes  Adj Close      Close       High        Low       Open     Volume\n",
       "Symbols           DOW        DOW        DOW        DOW        DOW        DOW\n",
       "Date                                                                        \n",
       "2020-01-02  52.876019  53.750000  55.540001  53.639999  55.230000  5145200.0\n",
       "2020-01-03  51.567642  52.419998  53.599998  52.410000  53.110001  5004300.0\n",
       "2020-01-06  51.361057  52.209999  52.880001  52.000000  52.320000  4293100.0\n",
       "2020-01-07  51.341381  52.189999  53.064999  51.990002  52.290001  5122800.0\n",
       "2020-01-08  51.872601  52.730000  53.169998  51.919998  52.410000  3629700.0\n",
       "2020-01-09  51.341381  52.189999  53.070000  51.810001  52.750000  2667800.0\n",
       "2020-01-10  50.662601  51.500000  52.869999  51.400002  52.860001  3277300.0\n",
       "2020-01-13  51.498779  52.349998  52.400002  51.470001  51.500000  2665500.0\n",
       "2020-01-14  51.390572  52.240002  52.970001  51.950001  52.189999  3689800.0\n",
       "2020-01-15  51.420082  52.270000  52.650002  51.700001  52.189999  2235400.0"
      ]
     },
     "execution_count": 5,
     "metadata": {},
     "output_type": "execute_result"
    }
   ],
   "source": [
    "ticker=['DOW']\n",
    "start_date=datetime.datetime(2020,1,1)\n",
    "end_date=datetime.datetime(2020,3,31)\n",
    "panel_data=pddr.DataReader(ticker,'yahoo',start_date,end_date)\n",
    "panel_data.head(10)"
   ]
  },
  {
   "cell_type": "code",
   "execution_count": 6,
   "metadata": {},
   "outputs": [
    {
     "data": {
      "text/plain": [
       "pandas.core.frame.DataFrame"
      ]
     },
     "execution_count": 6,
     "metadata": {},
     "output_type": "execute_result"
    }
   ],
   "source": [
    "type(panel_data)"
   ]
  },
  {
   "cell_type": "code",
   "execution_count": 7,
   "metadata": {},
   "outputs": [],
   "source": [
    "writer =pd.ExcelWriter('Dow.xlsx')\n",
    "panel_data.to_excel(writer,'data')\n",
    "writer.save()"
   ]
  },
  {
   "cell_type": "code",
   "execution_count": null,
   "metadata": {},
   "outputs": [],
   "source": []
  }
 ],
 "metadata": {
  "kernelspec": {
   "display_name": "Python 3",
   "language": "python",
   "name": "python3"
  },
  "language_info": {
   "codemirror_mode": {
    "name": "ipython",
    "version": 3
   },
   "file_extension": ".py",
   "mimetype": "text/x-python",
   "name": "python",
   "nbconvert_exporter": "python",
   "pygments_lexer": "ipython3",
   "version": "3.6.4"
  }
 },
 "nbformat": 4,
 "nbformat_minor": 2
}
